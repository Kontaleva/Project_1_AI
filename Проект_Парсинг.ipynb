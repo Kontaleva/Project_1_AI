{
  "cells": [
    {
      "cell_type": "code",
      "execution_count": null,
      "metadata": {
        "id": "yeUifMKGA_MV"
      },
      "outputs": [],
      "source": [
        "!pip install requests\n",
        "\n",
        "!pip install beautifulsoup4\n",
        "\n",
        "!pip install numpy"
      ]
    },
    {
      "cell_type": "code",
      "execution_count": null,
      "metadata": {
        "id": "J57QxylcBEg3"
      },
      "outputs": [],
      "source": [
        "import requests\n",
        "from bs4 import BeautifulSoup\n",
        "import pandas as pd\n",
        "import time\n",
        "import re\n",
        "import numpy as np\n",
        "from pprint import pprint\n",
        "import json\n",
        "import html.parser"
      ]
    },
    {
      "cell_type": "code",
      "execution_count": null,
      "metadata": {
        "id": "3pJ2pjin67HR"
      },
      "outputs": [],
      "source": [
        "#парсинг MIT"
      ]
    },
    {
      "cell_type": "code",
      "execution_count": null,
      "metadata": {
        "id": "udyj73bpkJaF"
      },
      "outputs": [],
      "source": [
        "all_page = ['https://news.mit.edu/topic/artificial-intelligence2?page=0', ]\n",
        "for i in range(1, 75):\n",
        "  all_page.append(f'https://news.mit.edu/topic/artificial-intelligence2?page={i}')"
      ]
    },
    {
      "cell_type": "code",
      "execution_count": null,
      "metadata": {
        "id": "nU-Ga9yQVsXF"
      },
      "outputs": [],
      "source": [
        "pur_url_lst = []\n",
        "\n",
        "for i in all_page:\n",
        "  html_text_page = requests.get(i).text\n",
        "  soup = BeautifulSoup(html_text_page, 'html.parser')\n",
        "  tag_url_artcl = soup.find_all('a', class_='term-page--news-article--item--title--link')\n",
        "  for i in tag_url_artcl:\n",
        "    pur_url_lst.append(f\"https://news.mit.edu{i['href']}\")"
      ]
    },
    {
      "cell_type": "code",
      "execution_count": null,
      "metadata": {
        "id": "0VgHK-4OfAY7"
      },
      "outputs": [],
      "source": [
        "art_data_dict = {'headers': [], 'time': [], 'text': []}\n",
        "\n",
        "for art_url in pur_url_lst:\n",
        "\n",
        "  url_art_rquest = requests.get(art_url).text\n",
        "  soup_art = BeautifulSoup(url_art_rquest)\n",
        "  art_data_dict['headers'].append(soup_art.find('div', id=\"block-mit-page-title\").find('span').text)\n",
        "  art_data_dict['time'].append(soup_art.find('time').text)\n",
        "  art_data_dict['text'].append(soup_art.find('div', class_='news-article--content--body').text.replace('\\n', ' '))"
      ]
    },
    {
      "cell_type": "code",
      "execution_count": null,
      "metadata": {
        "id": "in4gE73NwvzK"
      },
      "outputs": [],
      "source": [
        "with open('art_data.json', 'w', encoding='utf=8') as file:\n",
        "  json.dump(art_data_dict, file, indent=4, ensure_ascii=False)"
      ]
    },
    {
      "cell_type": "code",
      "execution_count": null,
      "metadata": {
        "id": "v3GhthMAOTz0"
      },
      "outputs": [],
      "source": [
        "df = pd.read_json('art_data.json')\n",
        "df = pd.DataFrame(art_data_dict)\n",
        "df.to_csv('m_art_data.csv', sep=',', encoding='utf-8')"
      ]
    },
    {
      "cell_type": "code",
      "execution_count": null,
      "metadata": {
        "id": "8ol_o9P6OZcp"
      },
      "outputs": [],
      "source": [
        "print(df)"
      ]
    },
    {
      "cell_type": "code",
      "execution_count": null,
      "metadata": {
        "id": "VniWMEUHzRKb"
      },
      "outputs": [],
      "source": [
        "df = pd.read_csv('m_art_data.csv')\n",
        "df.to_csv('m_art_data.txt', sep='\\t', index=False)\n",
        "\n",
        "df = df['headers']\n",
        "df.to_csv('m_headers.txt', sep='\\t', index=False)\n",
        "\n",
        "df = pd.read_csv('m_art_data.csv')\n",
        "df.to_csv('m_art_data.txt', sep='\\t', index=False)\n",
        "\n",
        "df = df['text']\n",
        "df.to_csv('m_text.txt', sep='\\t', index=False)"
      ]
    },
    {
      "cell_type": "code",
      "execution_count": null,
      "metadata": {
        "id": "t2UtOFkj_fgB"
      },
      "outputs": [],
      "source": [
        "# парсинг The economist"
      ]
    },
    {
      "cell_type": "code",
      "execution_count": null,
      "metadata": {
        "id": "YjTYaJ4s7I8p"
      },
      "outputs": [],
      "source": [
        "all_page2 = ['https://www.economist.com/search?q=AI&page=1', ]\n",
        "for i in range(1, 11):\n",
        "  all_page2.append(f'https://www.economist.com/search?q=AI&page={i}')"
      ]
    },
    {
      "cell_type": "code",
      "execution_count": null,
      "metadata": {
        "id": "7J4ht9n0DxvN"
      },
      "outputs": [],
      "source": [
        "e_pur_url_set = set()\n",
        "\n",
        "for i in all_page2:\n",
        "  html_text_page = requests.get(i).text\n",
        "  soup = BeautifulSoup(html_text_page, 'html.parser')\n",
        "  e_tag_url_artcl = soup.find_all('a', class_='_search-result')\n",
        "\n",
        "  for i in e_tag_url_artcl:\n",
        "    e_pur_url_set.add(i['href'])"
      ]
    },
    {
      "cell_type": "code",
      "execution_count": null,
      "metadata": {
        "id": "YlzzYyg0SA6k"
      },
      "outputs": [],
      "source": [
        "e_art_data_dict = {'headers': [], 'time': [], 'text': []}\n",
        "\n",
        "for e_art_url in e_pur_url_set:\n",
        "\n",
        "  try:\n",
        "    e_url_art_rquest = requests.get(e_art_url).text\n",
        "    soup_art = BeautifulSoup(e_url_art_rquest)\n",
        "    headers = soup_art.find('main', id=\"content\").find('div', class_='css-1r2sn2n e1mdktgm0').find('h1', class_=\"css-sous8d e1phhnog0\").text\n",
        "    e_art_data_dict['headers'].append(headers)\n",
        "\n",
        "    time = soup_art.find('time').text\n",
        "    e_art_data_dict['time'].append(time)\n",
        "\n",
        "    rex = re.search(r'css-tnm0wy ekpjo0f0|css-cbns87 ekpjo0f2', e_url_art_rquest)\n",
        "    text = soup_art.find('div', class_=rex.group(0)).text.replace('\\n', ' ').replace('\\xa0', ' ')\n",
        "    e_art_data_dict['text'].append(text)\n",
        "  except AttributeError:\n",
        "    pass"
      ]
    },
    {
      "cell_type": "code",
      "execution_count": null,
      "metadata": {
        "id": "P9_rJUBhMWsj"
      },
      "outputs": [],
      "source": [
        "with open('e_art_data.json', 'w', encoding='utf=8') as file:\n",
        "  json.dump(e_art_data_dict, file, indent=4, ensure_ascii=False)"
      ]
    },
    {
      "cell_type": "code",
      "execution_count": null,
      "metadata": {
        "id": "9RrbGuO8ZWQS"
      },
      "outputs": [],
      "source": [
        "df = pd.read_json('e_art_data.json')"
      ]
    },
    {
      "cell_type": "code",
      "execution_count": null,
      "metadata": {
        "id": "jHkw1LueEQQJ"
      },
      "outputs": [],
      "source": [
        "df"
      ]
    },
    {
      "cell_type": "code",
      "execution_count": null,
      "metadata": {
        "id": "9L3_u1uwP3bi"
      },
      "outputs": [],
      "source": [
        "df = pd.DataFrame(e_art_data_dict)\n",
        "e_df = pd.DataFrame(e_art_data_dict)\n",
        "e_df.to_csv('e_art_data.csv', sep=',', encoding='utf-8')\n",
        "\n",
        "e_df = pd.read_csv('e_art_data.csv')\n",
        "e_df.to_csv('e_art_data.txt', sep='\\t', index=False)\n",
        "\n",
        "print(e_df)"
      ]
    },
    {
      "cell_type": "code",
      "source": [
        "e_df = df['headers']\n",
        "e_df.to_csv('e_headers.txt', sep='\\t', index=False)\n",
        "\n",
        "e_df = pd.read_csv('e_art_data.csv')\n",
        "e_df.to_csv('e_art_data.txt', sep='\\t', index=False)\n",
        "\n",
        "e_df = df['text']\n",
        "e_df.to_csv('e_text.txt', sep='\\t', index=False)"
      ],
      "metadata": {
        "id": "IzGc-PtULhuI"
      },
      "execution_count": null,
      "outputs": []
    },
    {
      "cell_type": "code",
      "execution_count": null,
      "metadata": {
        "id": "J25SW6CWjTau"
      },
      "outputs": [],
      "source": [
        "# парсинг BBC"
      ]
    },
    {
      "cell_type": "code",
      "execution_count": null,
      "metadata": {
        "id": "dYBqFIgSjXSM"
      },
      "outputs": [],
      "source": [
        "page_lst = [f'https://www.bbc.co.uk/search?q=AI&d=SEARCH_PS&seqId=a377c420-d300-11ee-807f-ab7c7d65eaf8&page={i}' for i in range(1, 30)]"
      ]
    },
    {
      "cell_type": "code",
      "execution_count": null,
      "metadata": {
        "id": "IDcekvIpHs4p"
      },
      "outputs": [],
      "source": [
        "b_art_url_lst = []\n",
        "\n",
        "for pg in page_lst:\n",
        "    html_txt_pg = requests.get(pg).text\n",
        "    soup = BeautifulSoup(html_txt_pg, 'html.parser')\n",
        "    srch_url = soup.find_all('a', class_='ssrcss-its5xf-PromoLink exn3ah91')\n",
        "\n",
        "    for i in srch_url:\n",
        "        b_art_url_lst.append(i['href'])"
      ]
    },
    {
      "cell_type": "code",
      "execution_count": null,
      "metadata": {
        "id": "hnnA2ueNjg0S"
      },
      "outputs": [],
      "source": [
        "pprint(len(b_art_url_lst))"
      ]
    },
    {
      "cell_type": "code",
      "execution_count": null,
      "metadata": {
        "id": "4fAspP1Jj5EZ"
      },
      "outputs": [],
      "source": [
        "b_art_data_dict = {'headers': [], 'time': [], 'text': []}\n",
        "\n",
        "reg_comp = re.compile(r'\\d\\d\\d\\d-\\d\\d-\\d\\d')\n",
        "\n",
        "for art in b_art_url_lst:\n",
        "\n",
        "    try:\n",
        "        url_art_rquest = requests.get(art).text\n",
        "        soup_art = BeautifulSoup(url_art_rquest)\n",
        "        time = soup_art.find('span', class_='ssrcss-1if1g9v-MetadataText e4wm5bw1').find('time').get('datetime')\n",
        "        b_art_data_dict['time'].append(re.search(reg_comp, time).group(0))\n",
        "        b_art_data_dict['headers'].append(soup_art.find('h1', id=\"main-heading\").text)\n",
        "        txt = [p.text for p in soup_art.find_all('p', class_='ssrcss-1q0x1qg-Paragraph e1jhz7w10')]\n",
        "        b_art_data_dict['text'].append(str(txt))\n",
        "    except AttributeError:\n",
        "        pass"
      ]
    },
    {
      "cell_type": "code",
      "execution_count": null,
      "metadata": {
        "id": "34NSmM4IkAHn"
      },
      "outputs": [],
      "source": [
        "with open('b_art_data.json', 'w', encoding='utf=8') as file:\n",
        "    json.dump(b_art_data_dict, file, indent=4, ensure_ascii=False)"
      ]
    },
    {
      "cell_type": "code",
      "execution_count": null,
      "metadata": {
        "id": "mM4fL-Y0luOg"
      },
      "outputs": [],
      "source": [
        "df = pd.read_json('b_art_data.json')"
      ]
    },
    {
      "cell_type": "code",
      "execution_count": null,
      "metadata": {
        "id": "8dpXcJuRl0rS"
      },
      "outputs": [],
      "source": [
        "df = pd.DataFrame(b_art_data_dict)\n",
        "b_df = pd.DataFrame(b_art_data_dict)\n",
        "b_df.to_csv('b_art_data.csv', sep=',', encoding='utf-8')\n",
        "\n",
        "b_df = pd.read_csv('b_art_data.csv')\n",
        "b_df.to_csv('b_art_data.txt', sep='\\t', index=False)\n",
        "\n",
        "print(b_df)"
      ]
    },
    {
      "cell_type": "code",
      "execution_count": null,
      "metadata": {
        "id": "4kG3PsByGDTC"
      },
      "outputs": [],
      "source": [
        "b_df = df['headers']\n",
        "b_df.to_csv('b_headers.txt', sep='\\t', index=False)\n",
        "\n",
        "b_df = pd.read_csv('b_art_data.csv')\n",
        "b_df.to_csv('b_art_data.txt', sep='\\t', index=False)\n",
        "\n",
        "b_df = df['text']\n",
        "b_df.to_csv('b_text.txt', sep='\\t', index=False)"
      ]
    },
    {
      "cell_type": "code",
      "source": [
        "# объединение заголовков и текстов The Economist & BBC"
      ],
      "metadata": {
        "id": "v871tkLgTJ1f"
      },
      "execution_count": null,
      "outputs": []
    },
    {
      "cell_type": "code",
      "source": [
        "open(\"Media_headers.txt\",\"w\").write(open(\"e_headers.txt\",\"r\").read() + open(\"b_headers.txt\",\"r\").read())"
      ],
      "metadata": {
        "id": "3et-eLYJMYhV"
      },
      "execution_count": null,
      "outputs": []
    },
    {
      "cell_type": "code",
      "source": [
        "open(\"Media_text.txt\",\"w\").write(open(\"e_text.txt\",\"r\").read() + open(\"b_text.txt\",\"r\").read())"
      ],
      "metadata": {
        "id": "pjP_ULkcS77M"
      },
      "execution_count": null,
      "outputs": []
    },
    {
      "cell_type": "code",
      "source": [
        "# парсинг fox news"
      ],
      "metadata": {
        "id": "NBCIZKgLrpz5"
      },
      "execution_count": null,
      "outputs": []
    },
    {
      "cell_type": "code",
      "source": [
        "with open('fox_news.txt', 'r') as file:\n",
        "    article_html = file.read()"
      ],
      "metadata": {
        "id": "jEJksoFk1gUA"
      },
      "execution_count": null,
      "outputs": []
    },
    {
      "cell_type": "code",
      "source": [
        "fxn_soup = BeautifulSoup(article_html, 'html.parser')"
      ],
      "metadata": {
        "id": "AUOSU7Hb1k80"
      },
      "execution_count": null,
      "outputs": []
    },
    {
      "cell_type": "code",
      "source": [
        "href_artic = fxn_soup.find_all('h2', class_=\"title\")"
      ],
      "metadata": {
        "id": "nM-qmjdA1oiQ"
      },
      "execution_count": null,
      "outputs": []
    },
    {
      "cell_type": "code",
      "source": [
        "fxn_artcl_url_lst = [i.find('a').get('href') for i in href_artic]"
      ],
      "metadata": {
        "id": "uvo12BDY1r3l"
      },
      "execution_count": null,
      "outputs": []
    },
    {
      "cell_type": "code",
      "source": [
        "fxn_art_data_dict = {'headers': [], 'time': [], 'text': []}\n",
        "\n",
        "for url in fxn_artcl_url_lst:\n",
        "    try:\n",
        "        url_art_rquest = requests.get(url).text\n",
        "        soup_art = BeautifulSoup(url_art_rquest)\n",
        "        fxn_art_data_dict['time'].append(soup_art.find('span', class_=\"article-date\").find('time').text.strip())\n",
        "        fxn_art_data_dict['headers'].append(soup_art.find('h1', class_=\"headline speakable\").text)\n",
        "        txt = [i.text for i in soup_art.find('div', class_='article-body').find_all('p')]\n",
        "        fxn_art_data_dict['text'].append(str(txt))\n",
        "    except AttributeError:\n",
        "        pass"
      ],
      "metadata": {
        "id": "rA66yu-_1x-s"
      },
      "execution_count": null,
      "outputs": []
    },
    {
      "cell_type": "code",
      "source": [
        "df = pd.DataFrame(fxn_art_data_dict)\n",
        "df.to_csv('fxn_art_data.csv', sep=',', encoding='utf-8')"
      ],
      "metadata": {
        "id": "G_KM17OR3B9J"
      },
      "execution_count": null,
      "outputs": []
    },
    {
      "cell_type": "code",
      "source": [
        "df = pd.read_csv('fxn_art_data.csv')\n",
        "df.to_csv('fxn_art_data.txt', sep='\\t', index=False)"
      ],
      "metadata": {
        "id": "cVFhNqvz3O1s"
      },
      "execution_count": null,
      "outputs": []
    },
    {
      "cell_type": "code",
      "source": [
        "df = df['headers']\n",
        "df.to_csv('fxn_headers.txt', sep='\\t', index=False)\n",
        "\n",
        "df = pd.read_csv('fxn_art_data.csv')\n",
        "df.to_csv('fxn_art_data.txt', sep='\\t', index=False)\n",
        "\n",
        "df = df['text']\n",
        "df.to_csv('fxn_text.txt', sep='\\t', index=False)"
      ],
      "metadata": {
        "id": "k2Iaq4pi3Pe4"
      },
      "execution_count": null,
      "outputs": []
    }
  ],
  "metadata": {
    "colab": {
      "provenance": []
    },
    "kernelspec": {
      "display_name": "Python 3",
      "name": "python3"
    },
    "language_info": {
      "name": "python"
    }
  },
  "nbformat": 4,
  "nbformat_minor": 0
}